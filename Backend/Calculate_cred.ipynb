# Download Important Libraries

!pip install Newspaper3k

# Check if Newspaper3k is installed or not

!pip list | grep newspaper3k
""" This will give you the version of newspaper we are using.    """


""" Must ensure you had download lxml and lxml_html_clean   "

!pip install lxml

!pip install lxml_html_clean


# Download Google Search




